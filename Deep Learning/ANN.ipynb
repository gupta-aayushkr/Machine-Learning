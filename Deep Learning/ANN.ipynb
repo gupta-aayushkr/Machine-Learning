{
 "cells": [
  {
   "cell_type": "code",
   "execution_count": 16,
   "metadata": {},
   "outputs": [],
   "source": [
    "import numpy as np\n",
    "import pandas as pd\n",
    "import tensorflow as tf"
   ]
  },
  {
   "cell_type": "code",
   "execution_count": 17,
   "metadata": {},
   "outputs": [
    {
     "data": {
      "text/plain": [
       "'2.13.0'"
      ]
     },
     "execution_count": 17,
     "metadata": {},
     "output_type": "execute_result"
    }
   ],
   "source": [
    "tf.__version__"
   ]
  },
  {
   "cell_type": "markdown",
   "metadata": {},
   "source": [
    "# dataset"
   ]
  },
  {
   "cell_type": "code",
   "execution_count": 18,
   "metadata": {},
   "outputs": [],
   "source": [
    "dataset = pd.read_csv('Churn_Modelling.csv')\n",
    "X = dataset.iloc[:, 3:-1].values\n",
    "y = dataset.iloc[:, -1].values"
   ]
  },
  {
   "cell_type": "code",
   "execution_count": 19,
   "metadata": {},
   "outputs": [
    {
     "data": {
      "text/plain": [
       "array([[619, 'France', 'Female', ..., 1, 1, 101348.88],\n",
       "       [608, 'Spain', 'Female', ..., 0, 1, 112542.58],\n",
       "       [502, 'France', 'Female', ..., 1, 0, 113931.57],\n",
       "       ...,\n",
       "       [709, 'France', 'Female', ..., 0, 1, 42085.58],\n",
       "       [772, 'Germany', 'Male', ..., 1, 0, 92888.52],\n",
       "       [792, 'France', 'Female', ..., 1, 0, 38190.78]], dtype=object)"
      ]
     },
     "execution_count": 19,
     "metadata": {},
     "output_type": "execute_result"
    }
   ],
   "source": [
    "X"
   ]
  },
  {
   "cell_type": "code",
   "execution_count": 20,
   "metadata": {},
   "outputs": [
    {
     "data": {
      "text/plain": [
       "array([1, 0, 1, ..., 1, 1, 0])"
      ]
     },
     "execution_count": 20,
     "metadata": {},
     "output_type": "execute_result"
    }
   ],
   "source": [
    "y"
   ]
  },
  {
   "cell_type": "markdown",
   "metadata": {},
   "source": [
    "# Encoding"
   ]
  },
  {
   "cell_type": "markdown",
   "metadata": {},
   "source": [
    " - gender - Label Encoder"
   ]
  },
  {
   "cell_type": "code",
   "execution_count": 21,
   "metadata": {},
   "outputs": [],
   "source": [
    "from sklearn.preprocessing import LabelEncoder\n",
    "Le = LabelEncoder()\n",
    "X[:,2] = Le.fit_transform(X[:,2])"
   ]
  },
  {
   "cell_type": "code",
   "execution_count": 22,
   "metadata": {},
   "outputs": [
    {
     "data": {
      "text/plain": [
       "array([[619, 'France', 0, ..., 1, 1, 101348.88],\n",
       "       [608, 'Spain', 0, ..., 0, 1, 112542.58],\n",
       "       [502, 'France', 0, ..., 1, 0, 113931.57],\n",
       "       ...,\n",
       "       [709, 'France', 0, ..., 0, 1, 42085.58],\n",
       "       [772, 'Germany', 1, ..., 1, 0, 92888.52],\n",
       "       [792, 'France', 0, ..., 1, 0, 38190.78]], dtype=object)"
      ]
     },
     "execution_count": 22,
     "metadata": {},
     "output_type": "execute_result"
    }
   ],
   "source": [
    "X"
   ]
  },
  {
   "cell_type": "markdown",
   "metadata": {},
   "source": [
    "- geography - One Hot Encoding"
   ]
  },
  {
   "cell_type": "code",
   "execution_count": 25,
   "metadata": {},
   "outputs": [],
   "source": [
    "from sklearn.compose import ColumnTransformer\n",
    "from sklearn.preprocessing import OneHotEncoder\n",
    "ct = ColumnTransformer(transformers=[('encoder',OneHotEncoder(),[1])], remainder='passthrough')\n",
    "X = np.array(ct.fit_transform(X))"
   ]
  },
  {
   "cell_type": "markdown",
   "metadata": {},
   "source": [
    "- dummy variable moves in front column"
   ]
  },
  {
   "cell_type": "code",
   "execution_count": 26,
   "metadata": {},
   "outputs": [
    {
     "data": {
      "text/plain": [
       "array([[1.0, 0.0, 0.0, ..., 1, 1, 101348.88],\n",
       "       [0.0, 0.0, 1.0, ..., 0, 1, 112542.58],\n",
       "       [1.0, 0.0, 0.0, ..., 1, 0, 113931.57],\n",
       "       ...,\n",
       "       [1.0, 0.0, 0.0, ..., 0, 1, 42085.58],\n",
       "       [0.0, 1.0, 0.0, ..., 1, 0, 92888.52],\n",
       "       [1.0, 0.0, 0.0, ..., 1, 0, 38190.78]], dtype=object)"
      ]
     },
     "execution_count": 26,
     "metadata": {},
     "output_type": "execute_result"
    }
   ],
   "source": [
    "X"
   ]
  },
  {
   "cell_type": "markdown",
   "metadata": {},
   "source": [
    "# split"
   ]
  },
  {
   "cell_type": "code",
   "execution_count": 27,
   "metadata": {},
   "outputs": [],
   "source": [
    "from sklearn.model_selection import train_test_split\n",
    "X_train, X_test, y_train, y_test = train_test_split(X, y, test_size = 0.20, random_state = 0)"
   ]
  },
  {
   "cell_type": "markdown",
   "metadata": {},
   "source": [
    "# scale"
   ]
  },
  {
   "cell_type": "code",
   "execution_count": 28,
   "metadata": {},
   "outputs": [],
   "source": [
    "from sklearn.preprocessing import StandardScaler\n",
    "sc = StandardScaler()\n",
    "X_train = sc.fit_transform(X_train)\n",
    "X_test = sc.fit_transform(X_test)"
   ]
  },
  {
   "cell_type": "markdown",
   "metadata": {},
   "source": [
    "# ANN"
   ]
  },
  {
   "cell_type": "code",
   "execution_count": 30,
   "metadata": {},
   "outputs": [],
   "source": [
    "ann = tf.keras.models.Sequential()"
   ]
  },
  {
   "cell_type": "markdown",
   "metadata": {},
   "source": [
    "- input layer and first hidden layer"
   ]
  },
  {
   "cell_type": "code",
   "execution_count": 31,
   "metadata": {},
   "outputs": [],
   "source": [
    "ann.add(tf.keras.layers.Dense(units=6, activation='relu'))"
   ]
  },
  {
   "cell_type": "markdown",
   "metadata": {},
   "source": [
    "- second hidden layer"
   ]
  },
  {
   "cell_type": "code",
   "execution_count": 32,
   "metadata": {},
   "outputs": [],
   "source": [
    "ann.add(tf.keras.layers.Dense(units=6, activation='relu'))"
   ]
  },
  {
   "cell_type": "markdown",
   "metadata": {},
   "source": [
    "- output layer"
   ]
  },
  {
   "cell_type": "code",
   "execution_count": 34,
   "metadata": {},
   "outputs": [],
   "source": [
    "ann.add(tf.keras.layers.Dense(units=1, activation='sigmoid'))"
   ]
  },
  {
   "cell_type": "markdown",
   "metadata": {},
   "source": [
    "## training"
   ]
  },
  {
   "cell_type": "code",
   "execution_count": 35,
   "metadata": {},
   "outputs": [],
   "source": [
    "ann.compile(optimizer='adam', loss='binary_crossentropy', metrics=['accuracy'])"
   ]
  },
  {
   "cell_type": "code",
   "execution_count": 37,
   "metadata": {},
   "outputs": [
    {
     "name": "stdout",
     "output_type": "stream",
     "text": [
      "Epoch 1/200\n",
      "250/250 [==============================] - 0s 1ms/step - loss: 0.3313 - accuracy: 0.8676\n",
      "Epoch 2/200\n",
      "250/250 [==============================] - 0s 972us/step - loss: 0.3309 - accuracy: 0.8669\n",
      "Epoch 3/200\n",
      "250/250 [==============================] - 0s 673us/step - loss: 0.3311 - accuracy: 0.8661\n",
      "Epoch 4/200\n",
      "250/250 [==============================] - 0s 549us/step - loss: 0.3309 - accuracy: 0.8674\n",
      "Epoch 5/200\n",
      "250/250 [==============================] - 0s 508us/step - loss: 0.3310 - accuracy: 0.8666\n",
      "Epoch 6/200\n",
      "250/250 [==============================] - 0s 536us/step - loss: 0.3308 - accuracy: 0.8676\n",
      "Epoch 7/200\n",
      "250/250 [==============================] - 0s 511us/step - loss: 0.3307 - accuracy: 0.8656\n",
      "Epoch 8/200\n",
      "250/250 [==============================] - 0s 532us/step - loss: 0.3303 - accuracy: 0.8674\n",
      "Epoch 9/200\n",
      "250/250 [==============================] - 0s 512us/step - loss: 0.3303 - accuracy: 0.8669\n",
      "Epoch 10/200\n",
      "250/250 [==============================] - 0s 559us/step - loss: 0.3305 - accuracy: 0.8676\n",
      "Epoch 11/200\n",
      "250/250 [==============================] - 0s 684us/step - loss: 0.3301 - accuracy: 0.8656\n",
      "Epoch 12/200\n",
      "250/250 [==============================] - 0s 552us/step - loss: 0.3302 - accuracy: 0.8662\n",
      "Epoch 13/200\n",
      "250/250 [==============================] - 0s 598us/step - loss: 0.3301 - accuracy: 0.8676\n",
      "Epoch 14/200\n",
      "250/250 [==============================] - 0s 665us/step - loss: 0.3301 - accuracy: 0.8670\n",
      "Epoch 15/200\n",
      "250/250 [==============================] - 0s 577us/step - loss: 0.3301 - accuracy: 0.8674\n",
      "Epoch 16/200\n",
      "250/250 [==============================] - 0s 556us/step - loss: 0.3301 - accuracy: 0.8665\n",
      "Epoch 17/200\n",
      "250/250 [==============================] - 0s 678us/step - loss: 0.3298 - accuracy: 0.8683\n",
      "Epoch 18/200\n",
      "250/250 [==============================] - 0s 612us/step - loss: 0.3298 - accuracy: 0.8668\n",
      "Epoch 19/200\n",
      "250/250 [==============================] - 0s 675us/step - loss: 0.3299 - accuracy: 0.8674\n",
      "Epoch 20/200\n",
      "250/250 [==============================] - 0s 805us/step - loss: 0.3293 - accuracy: 0.8674\n",
      "Epoch 21/200\n",
      "250/250 [==============================] - 0s 1ms/step - loss: 0.3299 - accuracy: 0.8675\n",
      "Epoch 22/200\n",
      "250/250 [==============================] - 0s 891us/step - loss: 0.3294 - accuracy: 0.8684\n",
      "Epoch 23/200\n",
      "250/250 [==============================] - 0s 617us/step - loss: 0.3295 - accuracy: 0.8674\n",
      "Epoch 24/200\n",
      "250/250 [==============================] - 0s 512us/step - loss: 0.3298 - accuracy: 0.8674\n",
      "Epoch 25/200\n",
      "250/250 [==============================] - 0s 544us/step - loss: 0.3301 - accuracy: 0.8669\n",
      "Epoch 26/200\n",
      "250/250 [==============================] - 0s 511us/step - loss: 0.3295 - accuracy: 0.8684\n",
      "Epoch 27/200\n",
      "250/250 [==============================] - 0s 538us/step - loss: 0.3291 - accuracy: 0.8677\n",
      "Epoch 28/200\n",
      "250/250 [==============================] - 0s 505us/step - loss: 0.3292 - accuracy: 0.8674\n",
      "Epoch 29/200\n",
      "250/250 [==============================] - 0s 625us/step - loss: 0.3294 - accuracy: 0.8670\n",
      "Epoch 30/200\n",
      "250/250 [==============================] - 0s 530us/step - loss: 0.3292 - accuracy: 0.8689\n",
      "Epoch 31/200\n",
      "250/250 [==============================] - 0s 548us/step - loss: 0.3293 - accuracy: 0.8687\n",
      "Epoch 32/200\n",
      "250/250 [==============================] - 0s 693us/step - loss: 0.3289 - accuracy: 0.8689\n",
      "Epoch 33/200\n",
      "250/250 [==============================] - 0s 520us/step - loss: 0.3290 - accuracy: 0.8683\n",
      "Epoch 34/200\n",
      "250/250 [==============================] - 0s 533us/step - loss: 0.3289 - accuracy: 0.8695\n",
      "Epoch 35/200\n",
      "250/250 [==============================] - 0s 506us/step - loss: 0.3291 - accuracy: 0.8685\n",
      "Epoch 36/200\n",
      "250/250 [==============================] - 0s 550us/step - loss: 0.3290 - accuracy: 0.8677\n",
      "Epoch 37/200\n",
      "250/250 [==============================] - 0s 561us/step - loss: 0.3291 - accuracy: 0.8689\n",
      "Epoch 38/200\n",
      "250/250 [==============================] - 0s 588us/step - loss: 0.3297 - accuracy: 0.8684\n",
      "Epoch 39/200\n",
      "250/250 [==============================] - 0s 510us/step - loss: 0.3283 - accuracy: 0.8683\n",
      "Epoch 40/200\n",
      "250/250 [==============================] - 0s 529us/step - loss: 0.3289 - accuracy: 0.8687\n",
      "Epoch 41/200\n",
      "250/250 [==============================] - 0s 506us/step - loss: 0.3286 - accuracy: 0.8691\n",
      "Epoch 42/200\n",
      "250/250 [==============================] - 0s 535us/step - loss: 0.3287 - accuracy: 0.8675\n",
      "Epoch 43/200\n",
      "250/250 [==============================] - 0s 537us/step - loss: 0.3290 - accuracy: 0.8679\n",
      "Epoch 44/200\n",
      "250/250 [==============================] - 0s 551us/step - loss: 0.3285 - accuracy: 0.8690\n",
      "Epoch 45/200\n",
      "250/250 [==============================] - 0s 583us/step - loss: 0.3288 - accuracy: 0.8686\n",
      "Epoch 46/200\n",
      "250/250 [==============================] - 0s 514us/step - loss: 0.3282 - accuracy: 0.8692\n",
      "Epoch 47/200\n",
      "250/250 [==============================] - 0s 572us/step - loss: 0.3288 - accuracy: 0.8684\n",
      "Epoch 48/200\n",
      "250/250 [==============================] - 0s 531us/step - loss: 0.3281 - accuracy: 0.8695\n",
      "Epoch 49/200\n",
      "250/250 [==============================] - 0s 563us/step - loss: 0.3287 - accuracy: 0.8677\n",
      "Epoch 50/200\n",
      "250/250 [==============================] - 0s 542us/step - loss: 0.3282 - accuracy: 0.8690\n",
      "Epoch 51/200\n",
      "250/250 [==============================] - 0s 545us/step - loss: 0.3284 - accuracy: 0.8686\n",
      "Epoch 52/200\n",
      "250/250 [==============================] - 0s 512us/step - loss: 0.3286 - accuracy: 0.8679\n",
      "Epoch 53/200\n",
      "250/250 [==============================] - 0s 628us/step - loss: 0.3285 - accuracy: 0.8684\n",
      "Epoch 54/200\n",
      "250/250 [==============================] - 0s 507us/step - loss: 0.3281 - accuracy: 0.8676\n",
      "Epoch 55/200\n",
      "250/250 [==============================] - 0s 536us/step - loss: 0.3287 - accuracy: 0.8694\n",
      "Epoch 56/200\n",
      "250/250 [==============================] - 0s 536us/step - loss: 0.3282 - accuracy: 0.8685\n",
      "Epoch 57/200\n",
      "250/250 [==============================] - 0s 519us/step - loss: 0.3281 - accuracy: 0.8686\n",
      "Epoch 58/200\n",
      "250/250 [==============================] - 0s 574us/step - loss: 0.3282 - accuracy: 0.8681\n",
      "Epoch 59/200\n",
      "250/250 [==============================] - 0s 516us/step - loss: 0.3279 - accuracy: 0.8690\n",
      "Epoch 60/200\n",
      "250/250 [==============================] - 0s 536us/step - loss: 0.3285 - accuracy: 0.8683\n",
      "Epoch 61/200\n",
      "250/250 [==============================] - 0s 511us/step - loss: 0.3280 - accuracy: 0.8671\n",
      "Epoch 62/200\n",
      "250/250 [==============================] - 0s 541us/step - loss: 0.3283 - accuracy: 0.8684\n",
      "Epoch 63/200\n",
      "250/250 [==============================] - 0s 510us/step - loss: 0.3278 - accuracy: 0.8677\n",
      "Epoch 64/200\n",
      "250/250 [==============================] - 0s 534us/step - loss: 0.3279 - accuracy: 0.8683\n",
      "Epoch 65/200\n",
      "250/250 [==============================] - 0s 599us/step - loss: 0.3273 - accuracy: 0.8691\n",
      "Epoch 66/200\n",
      "250/250 [==============================] - 0s 594us/step - loss: 0.3275 - accuracy: 0.8677\n",
      "Epoch 67/200\n",
      "250/250 [==============================] - 0s 532us/step - loss: 0.3280 - accuracy: 0.8686\n",
      "Epoch 68/200\n",
      "250/250 [==============================] - 0s 518us/step - loss: 0.3280 - accuracy: 0.8679\n",
      "Epoch 69/200\n",
      "250/250 [==============================] - 0s 530us/step - loss: 0.3274 - accuracy: 0.8681\n",
      "Epoch 70/200\n",
      "250/250 [==============================] - 0s 508us/step - loss: 0.3281 - accuracy: 0.8687\n",
      "Epoch 71/200\n",
      "250/250 [==============================] - 0s 536us/step - loss: 0.3277 - accuracy: 0.8676\n",
      "Epoch 72/200\n",
      "250/250 [==============================] - 0s 508us/step - loss: 0.3272 - accuracy: 0.8681\n",
      "Epoch 73/200\n",
      "250/250 [==============================] - 0s 532us/step - loss: 0.3281 - accuracy: 0.8681\n",
      "Epoch 74/200\n",
      "250/250 [==============================] - 0s 512us/step - loss: 0.3272 - accuracy: 0.8685\n",
      "Epoch 75/200\n",
      "250/250 [==============================] - 0s 528us/step - loss: 0.3276 - accuracy: 0.8676\n",
      "Epoch 76/200\n",
      "250/250 [==============================] - 0s 510us/step - loss: 0.3272 - accuracy: 0.8677\n",
      "Epoch 77/200\n",
      "250/250 [==============================] - 0s 548us/step - loss: 0.3274 - accuracy: 0.8666\n",
      "Epoch 78/200\n",
      "250/250 [==============================] - 0s 506us/step - loss: 0.3274 - accuracy: 0.8690\n",
      "Epoch 79/200\n",
      "250/250 [==============================] - 0s 526us/step - loss: 0.3273 - accuracy: 0.8686\n",
      "Epoch 80/200\n",
      "250/250 [==============================] - 0s 505us/step - loss: 0.3274 - accuracy: 0.8675\n",
      "Epoch 81/200\n",
      "250/250 [==============================] - 0s 533us/step - loss: 0.3276 - accuracy: 0.8670\n",
      "Epoch 82/200\n",
      "250/250 [==============================] - 0s 505us/step - loss: 0.3273 - accuracy: 0.8683\n",
      "Epoch 83/200\n",
      "250/250 [==============================] - 0s 530us/step - loss: 0.3273 - accuracy: 0.8683\n",
      "Epoch 84/200\n",
      "250/250 [==============================] - 0s 506us/step - loss: 0.3267 - accuracy: 0.8680\n",
      "Epoch 85/200\n",
      "250/250 [==============================] - 0s 527us/step - loss: 0.3269 - accuracy: 0.8685\n",
      "Epoch 86/200\n",
      "250/250 [==============================] - 0s 507us/step - loss: 0.3273 - accuracy: 0.8689\n",
      "Epoch 87/200\n",
      "250/250 [==============================] - 0s 535us/step - loss: 0.3272 - accuracy: 0.8673\n",
      "Epoch 88/200\n",
      "250/250 [==============================] - 0s 501us/step - loss: 0.3271 - accuracy: 0.8681\n",
      "Epoch 89/200\n",
      "250/250 [==============================] - 0s 573us/step - loss: 0.3270 - accuracy: 0.8680\n",
      "Epoch 90/200\n",
      "250/250 [==============================] - 0s 527us/step - loss: 0.3270 - accuracy: 0.8673\n",
      "Epoch 91/200\n",
      "250/250 [==============================] - 0s 546us/step - loss: 0.3268 - accuracy: 0.8681\n",
      "Epoch 92/200\n",
      "250/250 [==============================] - 0s 530us/step - loss: 0.3268 - accuracy: 0.8689\n",
      "Epoch 93/200\n",
      "250/250 [==============================] - 0s 517us/step - loss: 0.3272 - accuracy: 0.8676\n",
      "Epoch 94/200\n",
      "250/250 [==============================] - 0s 515us/step - loss: 0.3275 - accuracy: 0.8669\n",
      "Epoch 95/200\n",
      "250/250 [==============================] - 0s 508us/step - loss: 0.3271 - accuracy: 0.8673\n",
      "Epoch 96/200\n",
      "250/250 [==============================] - 0s 504us/step - loss: 0.3269 - accuracy: 0.8680\n",
      "Epoch 97/200\n",
      "250/250 [==============================] - 0s 509us/step - loss: 0.3271 - accuracy: 0.8683\n",
      "Epoch 98/200\n",
      "250/250 [==============================] - 0s 634us/step - loss: 0.3269 - accuracy: 0.8675\n",
      "Epoch 99/200\n",
      "250/250 [==============================] - 0s 513us/step - loss: 0.3270 - accuracy: 0.8679\n",
      "Epoch 100/200\n",
      "250/250 [==============================] - 0s 514us/step - loss: 0.3266 - accuracy: 0.8674\n",
      "Epoch 101/200\n",
      "250/250 [==============================] - 0s 502us/step - loss: 0.3267 - accuracy: 0.8685\n",
      "Epoch 102/200\n",
      "250/250 [==============================] - 0s 497us/step - loss: 0.3270 - accuracy: 0.8674\n",
      "Epoch 103/200\n",
      "250/250 [==============================] - 0s 501us/step - loss: 0.3267 - accuracy: 0.8674\n",
      "Epoch 104/200\n",
      "250/250 [==============================] - 0s 513us/step - loss: 0.3267 - accuracy: 0.8681\n",
      "Epoch 105/200\n",
      "250/250 [==============================] - 0s 508us/step - loss: 0.3269 - accuracy: 0.8677\n",
      "Epoch 106/200\n",
      "250/250 [==============================] - 0s 505us/step - loss: 0.3268 - accuracy: 0.8685\n",
      "Epoch 107/200\n",
      "250/250 [==============================] - 0s 514us/step - loss: 0.3268 - accuracy: 0.8676\n",
      "Epoch 108/200\n",
      "250/250 [==============================] - 0s 511us/step - loss: 0.3271 - accuracy: 0.8680\n",
      "Epoch 109/200\n",
      "250/250 [==============================] - 0s 500us/step - loss: 0.3266 - accuracy: 0.8702\n",
      "Epoch 110/200\n",
      "250/250 [==============================] - 0s 506us/step - loss: 0.3267 - accuracy: 0.8671\n",
      "Epoch 111/200\n",
      "250/250 [==============================] - 0s 509us/step - loss: 0.3264 - accuracy: 0.8679\n",
      "Epoch 112/200\n",
      "250/250 [==============================] - 0s 511us/step - loss: 0.3265 - accuracy: 0.8690\n",
      "Epoch 113/200\n",
      "250/250 [==============================] - 0s 511us/step - loss: 0.3265 - accuracy: 0.8674\n",
      "Epoch 114/200\n",
      "250/250 [==============================] - 0s 535us/step - loss: 0.3267 - accuracy: 0.8680\n",
      "Epoch 115/200\n",
      "250/250 [==============================] - 0s 533us/step - loss: 0.3262 - accuracy: 0.8683\n",
      "Epoch 116/200\n",
      "250/250 [==============================] - 0s 503us/step - loss: 0.3263 - accuracy: 0.8676\n",
      "Epoch 117/200\n",
      "250/250 [==============================] - 0s 499us/step - loss: 0.3265 - accuracy: 0.8684\n",
      "Epoch 118/200\n",
      "250/250 [==============================] - 0s 508us/step - loss: 0.3266 - accuracy: 0.8668\n",
      "Epoch 119/200\n",
      "250/250 [==============================] - 0s 521us/step - loss: 0.3266 - accuracy: 0.8687\n",
      "Epoch 120/200\n",
      "250/250 [==============================] - 0s 517us/step - loss: 0.3262 - accuracy: 0.8679\n",
      "Epoch 121/200\n",
      "250/250 [==============================] - 0s 511us/step - loss: 0.3262 - accuracy: 0.8692\n",
      "Epoch 122/200\n",
      "250/250 [==============================] - 0s 511us/step - loss: 0.3261 - accuracy: 0.8691\n",
      "Epoch 123/200\n",
      "250/250 [==============================] - 0s 508us/step - loss: 0.3258 - accuracy: 0.8689\n",
      "Epoch 124/200\n",
      "250/250 [==============================] - 0s 522us/step - loss: 0.3262 - accuracy: 0.8683\n",
      "Epoch 125/200\n",
      "250/250 [==============================] - 0s 508us/step - loss: 0.3264 - accuracy: 0.8692\n",
      "Epoch 126/200\n",
      "250/250 [==============================] - 0s 508us/step - loss: 0.3259 - accuracy: 0.8680\n",
      "Epoch 127/200\n",
      "250/250 [==============================] - 0s 630us/step - loss: 0.3260 - accuracy: 0.8681\n",
      "Epoch 128/200\n",
      "250/250 [==============================] - 0s 508us/step - loss: 0.3262 - accuracy: 0.8679\n",
      "Epoch 129/200\n",
      "250/250 [==============================] - 0s 547us/step - loss: 0.3257 - accuracy: 0.8677\n",
      "Epoch 130/200\n",
      "250/250 [==============================] - 0s 509us/step - loss: 0.3261 - accuracy: 0.8700\n",
      "Epoch 131/200\n",
      "250/250 [==============================] - 0s 706us/step - loss: 0.3258 - accuracy: 0.8681\n",
      "Epoch 132/200\n",
      "250/250 [==============================] - 0s 605us/step - loss: 0.3258 - accuracy: 0.8686\n",
      "Epoch 133/200\n",
      "250/250 [==============================] - 0s 540us/step - loss: 0.3258 - accuracy: 0.8675\n",
      "Epoch 134/200\n",
      "250/250 [==============================] - 0s 534us/step - loss: 0.3256 - accuracy: 0.8687\n",
      "Epoch 135/200\n",
      "250/250 [==============================] - 0s 660us/step - loss: 0.3257 - accuracy: 0.8694\n",
      "Epoch 136/200\n",
      "250/250 [==============================] - 0s 556us/step - loss: 0.3257 - accuracy: 0.8683\n",
      "Epoch 137/200\n",
      "250/250 [==============================] - 0s 545us/step - loss: 0.3258 - accuracy: 0.8686\n",
      "Epoch 138/200\n",
      "250/250 [==============================] - 0s 533us/step - loss: 0.3262 - accuracy: 0.8673\n",
      "Epoch 139/200\n",
      "250/250 [==============================] - 0s 531us/step - loss: 0.3256 - accuracy: 0.8686\n",
      "Epoch 140/200\n",
      "250/250 [==============================] - 0s 534us/step - loss: 0.3256 - accuracy: 0.8685\n",
      "Epoch 141/200\n",
      "250/250 [==============================] - 0s 684us/step - loss: 0.3257 - accuracy: 0.8692\n",
      "Epoch 142/200\n",
      "250/250 [==============================] - 0s 659us/step - loss: 0.3257 - accuracy: 0.8691\n",
      "Epoch 143/200\n",
      "250/250 [==============================] - 0s 646us/step - loss: 0.3256 - accuracy: 0.8686\n",
      "Epoch 144/200\n",
      "250/250 [==============================] - 0s 639us/step - loss: 0.3256 - accuracy: 0.8680\n",
      "Epoch 145/200\n",
      "250/250 [==============================] - 0s 605us/step - loss: 0.3255 - accuracy: 0.8689\n",
      "Epoch 146/200\n",
      "250/250 [==============================] - 0s 613us/step - loss: 0.3256 - accuracy: 0.8680\n",
      "Epoch 147/200\n",
      "250/250 [==============================] - 0s 1ms/step - loss: 0.3254 - accuracy: 0.8681\n",
      "Epoch 148/200\n",
      "250/250 [==============================] - 0s 1ms/step - loss: 0.3255 - accuracy: 0.8686\n",
      "Epoch 149/200\n",
      "250/250 [==============================] - 0s 785us/step - loss: 0.3257 - accuracy: 0.8699\n",
      "Epoch 150/200\n",
      "250/250 [==============================] - 0s 594us/step - loss: 0.3257 - accuracy: 0.8681\n",
      "Epoch 151/200\n",
      "250/250 [==============================] - 0s 522us/step - loss: 0.3255 - accuracy: 0.8685\n",
      "Epoch 152/200\n",
      "250/250 [==============================] - 0s 572us/step - loss: 0.3254 - accuracy: 0.8691\n",
      "Epoch 153/200\n",
      "250/250 [==============================] - 0s 539us/step - loss: 0.3252 - accuracy: 0.8689\n",
      "Epoch 154/200\n",
      "250/250 [==============================] - 0s 514us/step - loss: 0.3252 - accuracy: 0.8683\n",
      "Epoch 155/200\n",
      "250/250 [==============================] - 0s 547us/step - loss: 0.3254 - accuracy: 0.8674\n",
      "Epoch 156/200\n",
      "250/250 [==============================] - 0s 512us/step - loss: 0.3248 - accuracy: 0.8686\n",
      "Epoch 157/200\n",
      "250/250 [==============================] - 0s 676us/step - loss: 0.3251 - accuracy: 0.8677\n",
      "Epoch 158/200\n",
      "250/250 [==============================] - 0s 514us/step - loss: 0.3253 - accuracy: 0.8696\n",
      "Epoch 159/200\n",
      "250/250 [==============================] - 0s 540us/step - loss: 0.3256 - accuracy: 0.8686\n",
      "Epoch 160/200\n",
      "250/250 [==============================] - 0s 505us/step - loss: 0.3254 - accuracy: 0.8686\n",
      "Epoch 161/200\n",
      "250/250 [==============================] - 0s 535us/step - loss: 0.3251 - accuracy: 0.8684\n",
      "Epoch 162/200\n",
      "250/250 [==============================] - 0s 514us/step - loss: 0.3250 - accuracy: 0.8689\n",
      "Epoch 163/200\n",
      "250/250 [==============================] - 0s 537us/step - loss: 0.3248 - accuracy: 0.8683\n",
      "Epoch 164/200\n",
      "250/250 [==============================] - 0s 508us/step - loss: 0.3251 - accuracy: 0.8689\n",
      "Epoch 165/200\n",
      "250/250 [==============================] - 0s 537us/step - loss: 0.3251 - accuracy: 0.8685\n",
      "Epoch 166/200\n",
      "250/250 [==============================] - 0s 530us/step - loss: 0.3253 - accuracy: 0.8675\n",
      "Epoch 167/200\n",
      "250/250 [==============================] - 0s 510us/step - loss: 0.3251 - accuracy: 0.8694\n",
      "Epoch 168/200\n",
      "250/250 [==============================] - 0s 531us/step - loss: 0.3256 - accuracy: 0.8681\n",
      "Epoch 169/200\n",
      "250/250 [==============================] - 0s 513us/step - loss: 0.3251 - accuracy: 0.8680\n",
      "Epoch 170/200\n",
      "250/250 [==============================] - 0s 528us/step - loss: 0.3254 - accuracy: 0.8687\n",
      "Epoch 171/200\n",
      "250/250 [==============================] - 0s 508us/step - loss: 0.3254 - accuracy: 0.8694\n",
      "Epoch 172/200\n",
      "250/250 [==============================] - 0s 536us/step - loss: 0.3251 - accuracy: 0.8674\n",
      "Epoch 173/200\n",
      "250/250 [==============================] - 0s 509us/step - loss: 0.3249 - accuracy: 0.8701\n",
      "Epoch 174/200\n",
      "250/250 [==============================] - 0s 534us/step - loss: 0.3251 - accuracy: 0.8692\n",
      "Epoch 175/200\n",
      "250/250 [==============================] - 0s 511us/step - loss: 0.3252 - accuracy: 0.8670\n",
      "Epoch 176/200\n",
      "250/250 [==============================] - 0s 530us/step - loss: 0.3251 - accuracy: 0.8690\n",
      "Epoch 177/200\n",
      "250/250 [==============================] - 0s 510us/step - loss: 0.3248 - accuracy: 0.8684\n",
      "Epoch 178/200\n",
      "250/250 [==============================] - 0s 549us/step - loss: 0.3249 - accuracy: 0.8686\n",
      "Epoch 179/200\n",
      "250/250 [==============================] - 0s 507us/step - loss: 0.3251 - accuracy: 0.8685\n",
      "Epoch 180/200\n",
      "250/250 [==============================] - 0s 698us/step - loss: 0.3250 - accuracy: 0.8679\n",
      "Epoch 181/200\n",
      "250/250 [==============================] - 0s 651us/step - loss: 0.3250 - accuracy: 0.8691\n",
      "Epoch 182/200\n",
      "250/250 [==============================] - 0s 530us/step - loss: 0.3244 - accuracy: 0.8685\n",
      "Epoch 183/200\n",
      "250/250 [==============================] - 0s 540us/step - loss: 0.3249 - accuracy: 0.8683\n",
      "Epoch 184/200\n",
      "250/250 [==============================] - 0s 511us/step - loss: 0.3251 - accuracy: 0.8696\n",
      "Epoch 185/200\n",
      "250/250 [==============================] - 0s 541us/step - loss: 0.3249 - accuracy: 0.8677\n",
      "Epoch 186/200\n",
      "250/250 [==============================] - 0s 521us/step - loss: 0.3250 - accuracy: 0.8686\n",
      "Epoch 187/200\n",
      "250/250 [==============================] - 0s 530us/step - loss: 0.3246 - accuracy: 0.8686\n",
      "Epoch 188/200\n",
      "250/250 [==============================] - 0s 512us/step - loss: 0.3249 - accuracy: 0.8690\n",
      "Epoch 189/200\n",
      "250/250 [==============================] - 0s 536us/step - loss: 0.3248 - accuracy: 0.8685\n",
      "Epoch 190/200\n",
      "250/250 [==============================] - 0s 517us/step - loss: 0.3251 - accuracy: 0.8685\n",
      "Epoch 191/200\n",
      "250/250 [==============================] - 0s 539us/step - loss: 0.3245 - accuracy: 0.8689\n",
      "Epoch 192/200\n",
      "250/250 [==============================] - 0s 513us/step - loss: 0.3254 - accuracy: 0.8673\n",
      "Epoch 193/200\n",
      "250/250 [==============================] - 0s 574us/step - loss: 0.3248 - accuracy: 0.8701\n",
      "Epoch 194/200\n",
      "250/250 [==============================] - 0s 523us/step - loss: 0.3247 - accuracy: 0.8692\n",
      "Epoch 195/200\n",
      "250/250 [==============================] - 0s 505us/step - loss: 0.3248 - accuracy: 0.8696\n",
      "Epoch 196/200\n",
      "250/250 [==============================] - 0s 535us/step - loss: 0.3246 - accuracy: 0.8689\n",
      "Epoch 197/200\n",
      "250/250 [==============================] - 0s 512us/step - loss: 0.3247 - accuracy: 0.8686\n",
      "Epoch 198/200\n",
      "250/250 [==============================] - 0s 536us/step - loss: 0.3249 - accuracy: 0.8698\n",
      "Epoch 199/200\n",
      "250/250 [==============================] - 0s 504us/step - loss: 0.3250 - accuracy: 0.8681\n",
      "Epoch 200/200\n",
      "250/250 [==============================] - 0s 530us/step - loss: 0.3249 - accuracy: 0.8673\n"
     ]
    },
    {
     "data": {
      "text/plain": [
       "<keras.src.callbacks.History at 0x1788bfca0>"
      ]
     },
     "execution_count": 37,
     "metadata": {},
     "output_type": "execute_result"
    }
   ],
   "source": [
    "ann.fit(X_train, y_train, batch_size=32, epochs=100)"
   ]
  },
  {
   "cell_type": "markdown",
   "metadata": {},
   "source": [
    "# Train"
   ]
  },
  {
   "cell_type": "code",
   "execution_count": 40,
   "metadata": {},
   "outputs": [
    {
     "name": "stdout",
     "output_type": "stream",
     "text": [
      "63/63 [==============================] - 0s 546us/step\n",
      "[[0 0]\n",
      " [0 1]\n",
      " [0 0]\n",
      " ...\n",
      " [0 0]\n",
      " [0 0]\n",
      " [0 0]]\n"
     ]
    }
   ],
   "source": [
    "y_pred = ann.predict(X_test)\n",
    "y_pred = (y_pred > 0.5)\n",
    "print(np.concatenate((y_pred.reshape(len(y_pred),1), y_test.reshape(len(y_test),1)),1))"
   ]
  },
  {
   "cell_type": "code",
   "execution_count": 41,
   "metadata": {},
   "outputs": [
    {
     "name": "stdout",
     "output_type": "stream",
     "text": [
      "[[1515   80]\n",
      " [ 189  216]]\n"
     ]
    },
    {
     "data": {
      "text/plain": [
       "0.8655"
      ]
     },
     "execution_count": 41,
     "metadata": {},
     "output_type": "execute_result"
    }
   ],
   "source": [
    "from sklearn.metrics import confusion_matrix, accuracy_score\n",
    "cm = confusion_matrix(y_test, y_pred)\n",
    "print(cm)\n",
    "accuracy_score(y_test, y_pred)"
   ]
  },
  {
   "cell_type": "code",
   "execution_count": null,
   "metadata": {},
   "outputs": [],
   "source": []
  }
 ],
 "metadata": {
  "kernelspec": {
   "display_name": "Python 3",
   "language": "python",
   "name": "python3"
  },
  "language_info": {
   "codemirror_mode": {
    "name": "ipython",
    "version": 3
   },
   "file_extension": ".py",
   "mimetype": "text/x-python",
   "name": "python",
   "nbconvert_exporter": "python",
   "pygments_lexer": "ipython3",
   "version": "3.10.13"
  },
  "orig_nbformat": 4
 },
 "nbformat": 4,
 "nbformat_minor": 2
}
